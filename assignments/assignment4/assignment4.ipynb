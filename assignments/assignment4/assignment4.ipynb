{
 "cells": [
  {
   "cell_type": "markdown",
   "metadata": {
    "deletable": false,
    "editable": false,
    "nbgrader": {
     "checksum": "48770f8b5f5d3062d3badd51fcafc401",
     "grade": false,
     "grade_id": "cell-a6c4f74309fc2379",
     "locked": true,
     "schema_version": 1,
     "solution": false
    }
   },
   "source": [
    "# Assignment 4\n",
    "## Description\n",
    "In this assignment you must read in a file of metropolitan regions and associated sports teams from [assets/wikipedia_data.html](assets/wikipedia_data.html) and answer some questions about each metropolitan region. Each of these regions may have one or more teams from the \"Big 4\": NFL (football, in [assets/nfl.csv](assets/nfl.csv)), MLB (baseball, in [assets/mlb.csv](assets/mlb.csv)), NBA (basketball, in [assets/nba.csv](assets/nba.csv) or NHL (hockey, in [assets/nhl.csv](assets/nhl.csv)). Please keep in mind that all questions are from the perspective of the metropolitan region, and that this file is the \"source of authority\" for the location of a given sports team. Thus teams which are commonly known by a different area (e.g. \"Oakland Raiders\") need to be mapped into the metropolitan region given (e.g. San Francisco Bay Area). This will require some human data understanding outside of the data you've been given (e.g. you will have to hand-code some names, and might need to google to find out where teams are)!\n",
    "\n",
    "For each sport I would like you to answer the question: **what is the win/loss ratio's correlation with the population of the city it is in?** Win/Loss ratio refers to the number of wins over the number of wins plus the number of losses. Remember that to calculate the correlation with [`pearsonr`](https://docs.scipy.org/doc/scipy/reference/generated/scipy.stats.pearsonr.html), so you are going to send in two ordered lists of values, the populations from the wikipedia_data.html file and the win/loss ratio for a given sport in the same order. Average the win/loss ratios for those cities which have multiple teams of a single sport. Each sport is worth an equal amount in this assignment (20%\\*4=80%) of the grade for this assignment. You should only use data **from year 2018** for your analysis -- this is important!\n",
    "\n",
    "## Notes\n",
    "\n",
    "1. Do not include data about the MLS or CFL in any of the work you are doing, we're only interested in the Big 4 in this assignment.\n",
    "2. I highly suggest that you first tackle the four correlation questions in order, as they are all similar and worth the majority of grades for this assignment. This is by design!\n",
    "3. It's fair game to talk with peers about high level strategy as well as the relationship between metropolitan areas and sports teams. However, do not post code solving aspects of the assignment (including such as dictionaries mapping areas to teams, or regexes which will clean up names).\n",
    "4. There may be more teams than the assert statements test, remember to collapse multiple teams in one city into a single value!"
   ]
  },
  {
   "cell_type": "markdown",
   "metadata": {
    "deletable": false,
    "editable": false,
    "nbgrader": {
     "checksum": "369ff9ecf0ee04640574205cbc697f94",
     "grade": false,
     "grade_id": "cell-712b2b5da63d4505",
     "locked": true,
     "schema_version": 1,
     "solution": false
    }
   },
   "source": [
    "## Question 1\n",
    "For this question, calculate the win/loss ratio's correlation with the population of the city it is in for the **NHL** using **2018** data."
   ]
  },
  {
   "cell_type": "code",
   "execution_count": 1,
   "metadata": {
    "deletable": false,
    "nbgrader": {
     "checksum": "1cac4803b02502929f5b1612d48db2b5",
     "grade": false,
     "grade_id": "cell-69b16e4386e58030",
     "locked": false,
     "schema_version": 1,
     "solution": true
    },
    "scrolled": false
   },
   "outputs": [
    {
     "data": {
      "text/plain": [
       "0.012308996455744249"
      ]
     },
     "execution_count": 1,
     "metadata": {},
     "output_type": "execute_result"
    }
   ],
   "source": [
    "import pandas as pd\n",
    "import numpy as np\n",
    "import scipy.stats as stats\n",
    "import re\n",
    "\n",
    "\n",
    "def nhl_correlation(): \n",
    "    # YOUR CODE HERE\n",
    "    #raise NotImplementedError()\n",
    "    nhl_df=pd.read_csv(\"assets/nhl.csv\")\n",
    "    cities=pd.read_html(\"assets/wikipedia_data.html\")[1]\n",
    "    cities=cities.iloc[:-1,[0,3,5,6,7,8]]\n",
    "\n",
    "    nhl_df = nhl_df[nhl_df['year'] == 2018]\n",
    "    nhl_df = nhl_df[~nhl_df['team'].str.contains('(\\.*Division)')]\n",
    "    nhl_df['team'] = nhl_df['team'].str.replace('[^a-zA-Z\\s]','')\n",
    "    nhl_df = nhl_df.reset_index().drop('index',axis=1)\n",
    "    city = {'Boston Bruins': 'Boston'\n",
    "            ,'Ottawa Senators':'Ottawa'\n",
    "            ,'Dallas Stars':'Dallas'\n",
    "            ,'Vegas Golden':'Vegas'}\n",
    "    nhl_df['City'] = nhl_df['team'].str.extract('^(\\w.{1,5}(?:\\s\\w+)?\\w*)').replace(city)\n",
    "    metro_areas = {'Dallas':'Dallas–Fort Worth'\n",
    "                    ,'Colorado':'Denver'\n",
    "                    ,'Vegas':'Las Vegas'\n",
    "                    ,'Anaheim':'Los Angeles'\n",
    "                    ,'Florida':'Miami–Fort Lauderdale'\n",
    "                    ,'Minnesota':'Minneapolis–Saint Paul'\n",
    "                    ,'New York':'New York City'\n",
    "                    ,'New Jersey':'New York City'\n",
    "                    ,'Arizona':'Phoenix'\n",
    "                    ,'Carolina':'Raleigh'\n",
    "                    ,'San Jose':'San Francisco Bay Area'\n",
    "                    ,'Tampa Bay':'Tampa Bay Area'\n",
    "                    ,'Washington':'Washington, D.C.'\n",
    "                    ,'St Louis':'St. Louis'}\n",
    "    nhl_df['Metro Area'] = nhl_df['City'].replace(metro_areas)\n",
    "    nhl_df.sort_values('Metro Area',inplace=True)\n",
    "    nhl_df = nhl_df.astype({'W':'float','L':'float','GP':'float'})\n",
    "    nhl_df['Team Win-Loss %'] = nhl_df['W']/nhl_df['GP']\n",
    "\n",
    "    merged_df = pd.merge(nhl_df, cities, how='inner', left_on='Metro Area', right_on='Metropolitan area')\n",
    "    merged_df.drop(['Metropolitan area','NFL','MLB','NBA','NHL'], axis=1, inplace=True)\n",
    "\n",
    "    metro_area_df = merged_df.groupby(['Metro Area','Population (2016 est.)[8]'])[['W','L','GP']].sum()\n",
    "    metro_area_df['Win-Loss %'] = metro_area_df['W']/(metro_area_df['W']+metro_area_df['L'])\n",
    "    metro_area_df = metro_area_df.reset_index()\n",
    "    metro_area_df = metro_area_df.astype({\"Population (2016 est.)[8]\":\"float\"})\n",
    "    \n",
    "    population_by_region = [i for i in metro_area_df[\"Population (2016 est.)[8]\"]] # pass in metropolitan area population from cities\n",
    "    win_loss_by_region = [i for i in metro_area_df['Win-Loss %']] # pass in win/loss ratio from nhl_df in the same order as cities[\"Metropolitan area\"]\n",
    "\n",
    "    assert len(population_by_region) == len(win_loss_by_region), \"Q1: Your lists must be the same length\"\n",
    "    assert len(population_by_region) == 28, \"Q1: There should be 28 teams being analysed for NHL\"\n",
    "    \n",
    "    return stats.pearsonr(population_by_region, win_loss_by_region)[0]\n",
    "\n",
    "nhl_correlation()"
   ]
  },
  {
   "cell_type": "code",
   "execution_count": null,
   "metadata": {
    "deletable": false,
    "editable": false,
    "nbgrader": {
     "checksum": "52a581df513c71153e105b93764cda4b",
     "grade": true,
     "grade_id": "cell-ebe0b2dfe1067e63",
     "locked": true,
     "points": 20,
     "schema_version": 1,
     "solution": false
    }
   },
   "outputs": [],
   "source": []
  },
  {
   "cell_type": "markdown",
   "metadata": {
    "deletable": false,
    "editable": false,
    "nbgrader": {
     "checksum": "988912cae4968d81473f46d783e79c16",
     "grade": false,
     "grade_id": "cell-cb964e690298b71d",
     "locked": true,
     "schema_version": 1,
     "solution": false
    }
   },
   "source": [
    "## Question 2\n",
    "For this question, calculate the win/loss ratio's correlation with the population of the city it is in for the **NBA** using **2018** data."
   ]
  },
  {
   "cell_type": "code",
   "execution_count": 2,
   "metadata": {
    "deletable": false,
    "nbgrader": {
     "checksum": "9394222aafc8ccab0a228098ba0d6010",
     "grade": false,
     "grade_id": "cell-5a5f21279e3d3572",
     "locked": false,
     "schema_version": 1,
     "solution": true
    }
   },
   "outputs": [
    {
     "data": {
      "text/plain": [
       "-0.17657160252844617"
      ]
     },
     "execution_count": 2,
     "metadata": {},
     "output_type": "execute_result"
    }
   ],
   "source": [
    "import pandas as pd\n",
    "import numpy as np\n",
    "import scipy.stats as stats\n",
    "import re\n",
    "\n",
    "nba_df=pd.read_csv(\"assets/nba.csv\")\n",
    "cities=pd.read_html(\"assets/wikipedia_data.html\")[1]\n",
    "cities=cities.iloc[:-1,[0,3,5,6,7,8]]\n",
    "\n",
    "def nba_correlation():\n",
    "    # YOUR CODE HERE\n",
    "    # raise NotImplementedError()\n",
    "    \n",
    "    nba_df=pd.read_csv(\"assets/nba.csv\")\n",
    "    cities=pd.read_html(\"assets/wikipedia_data.html\")[1]\n",
    "    cities=cities.iloc[:-1,[0,3,5,6,7,8]]\n",
    "    \n",
    "    nba_df = nba_df[nba_df['year'] == 2018]\n",
    "    nba_df['team'] = nba_df['team'].str.replace('[^a-zA-Z\\s]','')\n",
    "    city = {'Boston Celtics': 'Boston'\n",
    "            ,'Miami Heat':'Miami'\n",
    "            ,'Utah Jazz':'Utah'\n",
    "            ,'Denver Nuggets':'Denver'\n",
    "            ,'Dallas Mavericks':'Dallas'}\n",
    "    nba_df['City'] = nba_df['team'].str.extract('^(\\w.{1,5}(?:\\s\\w+)?\\w*)').replace(city)\n",
    "    metro_areas = {'Brooklyn':'New York City'\n",
    "                   ,'Dallas':'Dallas–Fort Worth'\n",
    "                   ,'Golden State':'San Francisco Bay Area'\n",
    "                   ,'Indiana':'Indianapolis'\n",
    "                   ,'Miami':'Miami–Fort Lauderdale'\n",
    "                   ,'Minnesota':'Minneapolis–Saint Paul'\n",
    "                   ,'New York':'New York City'\n",
    "                   ,'Oklahoma':'Oklahoma City'\n",
    "                   ,'Utah':'Salt Lake City'\n",
    "                   ,'Washington':'Washington, D.C.'}\n",
    "    nba_df['Metro Area'] = nba_df['City'].replace(metro_areas)\n",
    "    nba_df.sort_values('Metro Area',inplace=True)\n",
    "    nba_df = nba_df.astype({'W':'float','L':'float'})\n",
    "    \n",
    "    merged_df = pd.merge(nba_df, cities, how='inner', left_on='Metro Area', right_on='Metropolitan area')\n",
    "    merged_df = merged_df.astype({\"Population (2016 est.)[8]\":\"float\"})    \n",
    "    merged_df = merged_df.groupby(['Metro Area','Population (2016 est.)[8]'])[['W','L']].sum()\n",
    "    merged_df['Win-Loss %'] = merged_df['W']/(merged_df['W']+merged_df['L'])\n",
    "    merged_df = merged_df.reset_index()\n",
    "    \n",
    "    population_by_region = [i for i in merged_df[\"Population (2016 est.)[8]\"]] # pass in metropolitan area population from cities\n",
    "    win_loss_by_region = [i for i in merged_df['Win-Loss %']] # pass in win/loss ratio from nba_df in the same order as cities[\"Metropolitan area\"]\n",
    "\n",
    "    assert len(population_by_region) == len(win_loss_by_region), \"Q2: Your lists must be the same length\"\n",
    "    assert len(population_by_region) == 28, \"Q2: There should be 28 teams being analysed for NBA\"\n",
    "\n",
    "    return stats.pearsonr(population_by_region, win_loss_by_region)[0]\n",
    "\n",
    "nba_correlation()"
   ]
  },
  {
   "cell_type": "code",
   "execution_count": null,
   "metadata": {
    "deletable": false,
    "editable": false,
    "nbgrader": {
     "checksum": "bbdeb8eb22f525a34c10dc8798324e42",
     "grade": true,
     "grade_id": "cell-e573b2b4a282b470",
     "locked": true,
     "points": 20,
     "schema_version": 1,
     "solution": false
    }
   },
   "outputs": [],
   "source": []
  },
  {
   "cell_type": "markdown",
   "metadata": {
    "deletable": false,
    "editable": false,
    "nbgrader": {
     "checksum": "1a1a5809f675ca033086422007cd73bd",
     "grade": false,
     "grade_id": "cell-96e15e4335df78f4",
     "locked": true,
     "schema_version": 1,
     "solution": false
    }
   },
   "source": [
    "## Question 3\n",
    "For this question, calculate the win/loss ratio's correlation with the population of the city it is in for the **MLB** using **2018** data."
   ]
  },
  {
   "cell_type": "code",
   "execution_count": 3,
   "metadata": {
    "deletable": false,
    "nbgrader": {
     "checksum": "27e8c0da6c9fa0dffc10488314335b6c",
     "grade": false,
     "grade_id": "cell-33b00fc3f3467b0c",
     "locked": false,
     "schema_version": 1,
     "solution": true
    }
   },
   "outputs": [
    {
     "data": {
      "text/plain": [
       "0.15756084693436004"
      ]
     },
     "execution_count": 3,
     "metadata": {},
     "output_type": "execute_result"
    }
   ],
   "source": [
    "import pandas as pd\n",
    "import numpy as np\n",
    "import scipy.stats as stats\n",
    "import re\n",
    "\n",
    "def mlb_correlation(): \n",
    "    # YOUR CODE HERE\n",
    "    # raise NotImplementedError()\n",
    "\n",
    "    mlb_df=pd.read_csv(\"assets/mlb.csv\")\n",
    "    cities=pd.read_html(\"assets/wikipedia_data.html\")[1]\n",
    "    cities=cities.iloc[:-1,[0,3,5,6,7,8]]  \n",
    "    mlb_df = mlb_df[mlb_df['year'] == 2018]\n",
    "    mlb_df['team'] = mlb_df['team'].str.replace('[^a-zA-Z\\s\\.]','')\n",
    "    city = {'Boston Red': 'Boston'\n",
    "            ,'Texas Rangers':'Texas'\n",
    "            ,'Miami Marlins':'Miami'}  \n",
    "    mlb_df['City'] = mlb_df['team'].str.extract('^(\\w.{1,5}(?:\\s\\w+)?\\w*)').replace(city)\n",
    "    metro_areas = {'Arizona':'Phoenix'\n",
    "                   ,'Colorado':'Denver'\n",
    "                   ,'Miami':'Miami–Fort Lauderdale'\n",
    "                   ,'Minnesota':'Minneapolis–Saint Paul'\n",
    "                   ,'New York':'New York City'\n",
    "                   ,'Oakland':'San Francisco Bay Area'\n",
    "                   ,'Tampa Bay':'Tampa Bay Area'\n",
    "                   ,'Texas':'Dallas–Fort Worth'\n",
    "                   ,'Washington':'Washington, D.C.'}\n",
    "    mlb_df['Metro Area'] = mlb_df['City'].replace(metro_areas)\n",
    "    mlb_df.sort_values('Metro Area',inplace=True)\n",
    "    mlb_df = mlb_df.astype({'W':'float','L':'float'})\n",
    "\n",
    "    merged_df = pd.merge(mlb_df, cities, how='inner', left_on='Metro Area', right_on='Metropolitan area')\n",
    "    merged_df = merged_df.astype({\"Population (2016 est.)[8]\":\"float\"})    \n",
    "    merged_df = merged_df.groupby(['Metro Area','Population (2016 est.)[8]'])[['W','L']].sum()\n",
    "    merged_df['Win-Loss %'] = merged_df['W']/(merged_df['W']+merged_df['L'])\n",
    "    merged_df = merged_df.reset_index()\n",
    "    \n",
    "    population_by_region = [i for i in merged_df[\"Population (2016 est.)[8]\"]] # pass in metropolitan area population from cities\n",
    "    win_loss_by_region = [i for i in merged_df['Win-Loss %']] # pass in win/loss ratio from mlb_df in the same order as cities[\"Metropolitan area\"]\n",
    "\n",
    "    assert len(population_by_region) == len(win_loss_by_region), \"Q3: Your lists must be the same length\"\n",
    "    assert len(population_by_region) == 26, \"Q3: There should be 26 teams being analysed for MLB\"\n",
    "\n",
    "    return stats.pearsonr(population_by_region, win_loss_by_region)[0]\n",
    "\n",
    "mlb_correlation()"
   ]
  },
  {
   "cell_type": "code",
   "execution_count": null,
   "metadata": {
    "deletable": false,
    "editable": false,
    "nbgrader": {
     "checksum": "cda33b094ba19ccc37a481e0dd29e0bc",
     "grade": true,
     "grade_id": "cell-764d4476f425c5a2",
     "locked": true,
     "points": 20,
     "schema_version": 1,
     "solution": false
    }
   },
   "outputs": [],
   "source": []
  },
  {
   "cell_type": "markdown",
   "metadata": {
    "deletable": false,
    "editable": false,
    "nbgrader": {
     "checksum": "6977a6da9ed6d8b7a0b7e37bbeda709b",
     "grade": false,
     "grade_id": "cell-793df6c04dfb126e",
     "locked": true,
     "schema_version": 1,
     "solution": false
    }
   },
   "source": [
    "## Question 4\n",
    "For this question, calculate the win/loss ratio's correlation with the population of the city it is in for the **NFL** using **2018** data."
   ]
  },
  {
   "cell_type": "code",
   "execution_count": 4,
   "metadata": {
    "deletable": false,
    "nbgrader": {
     "checksum": "c4914ad1e119278ec2bd567c52640b66",
     "grade": false,
     "grade_id": "cell-8ccebc209aeec8d9",
     "locked": false,
     "schema_version": 1,
     "solution": true
    }
   },
   "outputs": [
    {
     "data": {
      "text/plain": [
       "0.004922112149349393"
      ]
     },
     "execution_count": 4,
     "metadata": {},
     "output_type": "execute_result"
    }
   ],
   "source": [
    "import pandas as pd\n",
    "import numpy as np\n",
    "import scipy.stats as stats\n",
    "import re\n",
    "\n",
    "def nfl_correlation(): \n",
    "    # YOUR CODE HERE\n",
    "    # raise NotImplementedError()\n",
    "\n",
    "    nfl_df=pd.read_csv(\"assets/nfl.csv\")\n",
    "    cities=pd.read_html(\"assets/wikipedia_data.html\")[1]\n",
    "    cities=cities.iloc[:-1,[0,3,5,6,7,8]]\n",
    "\n",
    "    nfl_df = nfl_df[nfl_df['year'] == 2018]\n",
    "    nfl_df = nfl_df[~nfl_df['team'].str.contains('(\\.*(AFC|NFC)\\.*)')]\n",
    "    nfl_df['team'] = nfl_df['team'].str.replace('[^a-zA-Z\\s\\.]','')\n",
    "    city = {'Miami Dolphins': 'Miami'\n",
    "            ,'Denver Broncos':'Denver'\n",
    "            ,'Dallas Cowboys':'Dallas'}  \n",
    "    nfl_df['City'] = nfl_df['team'].str.extract('^(\\w.{1,5}(?:\\s\\w+)?\\w*)').replace(city)\n",
    "    metro_areas = {'New England':'Boston'\n",
    "                   ,'Miami':'Miami–Fort Lauderdale'\n",
    "                   ,'New York':'New York City'\n",
    "                   ,'Tennessee':'Nashville'\n",
    "                   ,'Oakland':'San Francisco Bay Area'\n",
    "                   ,'Dallas':'Dallas–Fort Worth'\n",
    "                   ,'Washington':'Washington, D.C.'\n",
    "                   ,'Minnesota':'Minneapolis–Saint Paul'\n",
    "                   ,'Carolina':'Charlotte'\n",
    "                   ,'Tampa Bay':'Tampa Bay Area'\n",
    "                   ,'Arizona':'Phoenix'}\n",
    "    nfl_df['Metro Area'] = nfl_df['City'].replace(metro_areas)\n",
    "    nfl_df.sort_values('Metro Area',inplace=True)\n",
    "    nfl_df = nfl_df.astype({'W':'float','L':'float'})\n",
    "\n",
    "    merged_df = pd.merge(nfl_df, cities, how='inner', left_on='Metro Area', right_on='Metropolitan area')\n",
    "    merged_df = merged_df.astype({\"Population (2016 est.)[8]\":\"float\"})    \n",
    "    merged_df = merged_df.groupby(['Metro Area','Population (2016 est.)[8]'])[['W','L']].sum()\n",
    "    merged_df['Win-Loss %'] = merged_df['W']/(merged_df['W']+merged_df['L'])\n",
    "    merged_df = merged_df.reset_index()\n",
    "    \n",
    "    population_by_region = [i for i in merged_df[\"Population (2016 est.)[8]\"]] # pass in metropolitan area population from cities\n",
    "    win_loss_by_region = [i for i in merged_df['Win-Loss %']] # pass in win/loss ratio from mlb_df in the same order as cities[\"Metropolitan area\"]\n",
    "\n",
    "    assert len(population_by_region) == len(win_loss_by_region), \"Q4: Your lists must be the same length\"\n",
    "    assert len(population_by_region) == 29, \"Q4: There should be 29 teams being analysed for NFL\"\n",
    "\n",
    "    return stats.pearsonr(population_by_region, win_loss_by_region)[0]\n",
    "\n",
    "nfl_correlation()"
   ]
  },
  {
   "cell_type": "code",
   "execution_count": null,
   "metadata": {
    "deletable": false,
    "editable": false,
    "nbgrader": {
     "checksum": "e9415d6399aa49e3a1a60813afdefa3b",
     "grade": true,
     "grade_id": "cell-de7b148b9554dbda",
     "locked": true,
     "points": 20,
     "schema_version": 1,
     "solution": false
    }
   },
   "outputs": [],
   "source": []
  },
  {
   "cell_type": "markdown",
   "metadata": {
    "deletable": false,
    "editable": false,
    "nbgrader": {
     "checksum": "b02d5cd3273f561e4ae939bb2a41740c",
     "grade": false,
     "grade_id": "cell-97b49d8639e908c4",
     "locked": true,
     "schema_version": 1,
     "solution": false
    }
   },
   "source": [
    "## Question 5\n",
    "In this question I would like you to explore the hypothesis that **given that an area has two sports teams in different sports, those teams will perform the same within their respective sports**. How I would like to see this explored is with a series of paired t-tests (so use [`ttest_rel`](https://docs.scipy.org/doc/scipy/reference/generated/scipy.stats.ttest_rel.html)) between all pairs of sports. Are there any sports where we can reject the null hypothesis? Again, average values where a sport has multiple teams in one region. Remember, you will only be including, for each sport, cities which have teams engaged in that sport, drop others as appropriate. This question is worth 20% of the grade for this assignment."
   ]
  },
  {
   "cell_type": "code",
   "execution_count": 7,
   "metadata": {
    "deletable": false,
    "nbgrader": {
     "checksum": "6d78c961eb66f8d8c81f06d33ae8f393",
     "grade": false,
     "grade_id": "cell-92f25f44b8d1179f",
     "locked": false,
     "schema_version": 1,
     "solution": true
    }
   },
   "outputs": [
    {
     "data": {
      "text/html": [
       "<div>\n",
       "<style scoped>\n",
       "    .dataframe tbody tr th:only-of-type {\n",
       "        vertical-align: middle;\n",
       "    }\n",
       "\n",
       "    .dataframe tbody tr th {\n",
       "        vertical-align: top;\n",
       "    }\n",
       "\n",
       "    .dataframe thead th {\n",
       "        text-align: right;\n",
       "    }\n",
       "</style>\n",
       "<table border=\"1\" class=\"dataframe\">\n",
       "  <thead>\n",
       "    <tr style=\"text-align: right;\">\n",
       "      <th></th>\n",
       "      <th>NHL</th>\n",
       "      <th>NBA</th>\n",
       "      <th>MLB</th>\n",
       "      <th>NFL</th>\n",
       "    </tr>\n",
       "  </thead>\n",
       "  <tbody>\n",
       "    <tr>\n",
       "      <th>NHL</th>\n",
       "      <td>NaN</td>\n",
       "      <td>0.022297</td>\n",
       "      <td>0.001234</td>\n",
       "      <td>0.030883</td>\n",
       "    </tr>\n",
       "    <tr>\n",
       "      <th>NBA</th>\n",
       "      <td>0.022297</td>\n",
       "      <td>NaN</td>\n",
       "      <td>0.959384</td>\n",
       "      <td>0.941792</td>\n",
       "    </tr>\n",
       "    <tr>\n",
       "      <th>MLB</th>\n",
       "      <td>0.001234</td>\n",
       "      <td>0.959384</td>\n",
       "      <td>NaN</td>\n",
       "      <td>0.866559</td>\n",
       "    </tr>\n",
       "    <tr>\n",
       "      <th>NFL</th>\n",
       "      <td>0.030883</td>\n",
       "      <td>0.941792</td>\n",
       "      <td>0.866559</td>\n",
       "      <td>NaN</td>\n",
       "    </tr>\n",
       "  </tbody>\n",
       "</table>\n",
       "</div>"
      ],
      "text/plain": [
       "          NHL       NBA       MLB       NFL\n",
       "NHL       NaN  0.022297  0.001234  0.030883\n",
       "NBA  0.022297       NaN  0.959384  0.941792\n",
       "MLB  0.001234  0.959384       NaN  0.866559\n",
       "NFL  0.030883  0.941792  0.866559       NaN"
      ]
     },
     "execution_count": 7,
     "metadata": {},
     "output_type": "execute_result"
    }
   ],
   "source": [
    "import pandas as pd\n",
    "import numpy as np\n",
    "import scipy.stats as stats\n",
    "import re\n",
    "\n",
    "mlb_df=pd.read_csv(\"assets/mlb.csv\")\n",
    "nhl_df=pd.read_csv(\"assets/nhl.csv\")\n",
    "nba_df=pd.read_csv(\"assets/nba.csv\")\n",
    "nfl_df=pd.read_csv(\"assets/nfl.csv\")\n",
    "cities=pd.read_html(\"assets/wikipedia_data.html\")[1]\n",
    "cities=cities.iloc[:-1,[0,3,5,6,7,8]]\n",
    "\n",
    "def nhl():\n",
    "    nhl_df=pd.read_csv(\"assets/nhl.csv\")\n",
    "    cities=pd.read_html(\"assets/wikipedia_data.html\")[1]\n",
    "    cities=cities.iloc[:-1,[0,3,5,6,7,8]]\n",
    "    \n",
    "    nhl_df = nhl_df[nhl_df['year'] == 2018]\n",
    "    nhl_df = nhl_df[~nhl_df['team'].str.contains('(\\.*Division)')]\n",
    "    nhl_df['team'] = nhl_df['team'].str.replace('[^a-zA-Z\\s]','')\n",
    "    city = {'Boston Bruins': 'Boston'\n",
    "            ,'Ottawa Senators':'Ottawa'\n",
    "            ,'Dallas Stars':'Dallas'\n",
    "            ,'Vegas Golden':'Vegas'}\n",
    "    nhl_df['City'] = nhl_df['team'].str.extract('^(\\w.{1,5}(?:\\s\\w+)?\\w*)').replace(city)\n",
    "    metro_areas = {'Dallas':'Dallas–Fort Worth'\n",
    "                    ,'Colorado':'Denver'\n",
    "                    ,'Vegas':'Las Vegas'\n",
    "                    ,'Anaheim':'Los Angeles'\n",
    "                    ,'Florida':'Miami–Fort Lauderdale'\n",
    "                    ,'Minnesota':'Minneapolis–Saint Paul'\n",
    "                    ,'New York':'New York City'\n",
    "                    ,'New Jersey':'New York City'\n",
    "                    ,'Arizona':'Phoenix'\n",
    "                    ,'Carolina':'Raleigh'\n",
    "                    ,'San Jose':'San Francisco Bay Area'\n",
    "                    ,'Tampa Bay':'Tampa Bay Area'\n",
    "                    ,'Washington':'Washington, D.C.'\n",
    "                    ,'St Louis':'St. Louis'}\n",
    "    nhl_df['Metro Area'] = nhl_df['City'].replace(metro_areas)\n",
    "    nhl_df = nhl_df.astype({'W':'float','L':'float'})\n",
    "    \n",
    "    merged_df = pd.merge(nhl_df, cities, how='inner', left_on='Metro Area', right_on='Metropolitan area')\n",
    "    merged_df = merged_df.astype({\"Population (2016 est.)[8]\":\"float\"})    \n",
    "    #merged_df = merged_df.groupby(['Metro Area','Population (2016 est.)[8]'])[['W','L']].sum()\n",
    "    merged_df['Win-Loss %'] = merged_df['W']/(merged_df['W']+merged_df['L'])\n",
    "    merged_df = merged_df.groupby('Metro Area').mean()\n",
    "    merged_df = merged_df.reset_index()\n",
    "    \n",
    "    return merged_df\n",
    "\n",
    "def nba():\n",
    "    # YOUR CODE HERE\n",
    "    # raise NotImplementedError()\n",
    "    \n",
    "    nba_df=pd.read_csv(\"assets/nba.csv\")\n",
    "    cities=pd.read_html(\"assets/wikipedia_data.html\")[1]\n",
    "    cities=cities.iloc[:-1,[0,3,5,6,7,8]]\n",
    "    \n",
    "    nba_df = nba_df[nba_df['year'] == 2018]\n",
    "    nba_df['team'] = nba_df['team'].str.replace('[^a-zA-Z\\s]','')\n",
    "    city = {'Boston Celtics': 'Boston'\n",
    "            ,'Miami Heat':'Miami'\n",
    "            ,'Utah Jazz':'Utah'\n",
    "            ,'Denver Nuggets':'Denver'\n",
    "            ,'Dallas Mavericks':'Dallas'}\n",
    "    nba_df['City'] = nba_df['team'].str.extract('^(\\w.{1,5}(?:\\s\\w+)?\\w*)').replace(city)\n",
    "    metro_areas = {'Brooklyn':'New York City'\n",
    "                   ,'Dallas':'Dallas–Fort Worth'\n",
    "                   ,'Golden State':'San Francisco Bay Area'\n",
    "                   ,'Indiana':'Indianapolis'\n",
    "                   ,'Miami':'Miami–Fort Lauderdale'\n",
    "                   ,'Minnesota':'Minneapolis–Saint Paul'\n",
    "                   ,'New York':'New York City'\n",
    "                   ,'Oklahoma':'Oklahoma City'\n",
    "                   ,'Utah':'Salt Lake City'\n",
    "                   ,'Washington':'Washington, D.C.'}\n",
    "    nba_df['Metro Area'] = nba_df['City'].replace(metro_areas)\n",
    "    nba_df.sort_values('Metro Area',inplace=True)\n",
    "    nba_df = nba_df.astype({'W':'float','L':'float'})\n",
    "    \n",
    "    merged_df = pd.merge(nba_df, cities, how='inner', left_on='Metro Area', right_on='Metropolitan area')\n",
    "    merged_df = merged_df.astype({\"Population (2016 est.)[8]\":\"float\"})    \n",
    "    #merged_df = merged_df.groupby(['Metro Area','Population (2016 est.)[8]'])[['W','L']].sum()\n",
    "    merged_df['Win-Loss %'] = merged_df['W']/(merged_df['W']+merged_df['L'])\n",
    "    merged_df = merged_df.groupby('Metro Area').mean()\n",
    "    merged_df = merged_df.reset_index()\n",
    "\n",
    "    return merged_df\n",
    "\n",
    "def mlb(): \n",
    "    # YOUR CODE HERE\n",
    "    # raise NotImplementedError()\n",
    "\n",
    "    mlb_df=pd.read_csv(\"assets/mlb.csv\")\n",
    "    cities=pd.read_html(\"assets/wikipedia_data.html\")[1]\n",
    "    cities=cities.iloc[:-1,[0,3,5,6,7,8]]  \n",
    "    mlb_df = mlb_df[mlb_df['year'] == 2018]\n",
    "    mlb_df['team'] = mlb_df['team'].str.replace('[^a-zA-Z\\s\\.]','')\n",
    "    city = {'Boston Red': 'Boston'\n",
    "            ,'Texas Rangers':'Texas'\n",
    "            ,'Miami Marlins':'Miami'}  \n",
    "    mlb_df['City'] = mlb_df['team'].str.extract('^(\\w.{1,5}(?:\\s\\w+)?\\w*)').replace(city)\n",
    "    metro_areas = {'Arizona':'Phoenix'\n",
    "                   ,'Colorado':'Denver'\n",
    "                   ,'Miami':'Miami–Fort Lauderdale'\n",
    "                   ,'Minnesota':'Minneapolis–Saint Paul'\n",
    "                   ,'New York':'New York City'\n",
    "                   ,'Oakland':'San Francisco Bay Area'\n",
    "                   ,'Tampa Bay':'Tampa Bay Area'\n",
    "                   ,'Texas':'Dallas–Fort Worth'\n",
    "                   ,'Washington':'Washington, D.C.'}\n",
    "    mlb_df['Metro Area'] = mlb_df['City'].replace(metro_areas)\n",
    "    mlb_df.sort_values('Metro Area',inplace=True)\n",
    "    mlb_df = mlb_df.astype({'W':'float','L':'float'})\n",
    "\n",
    "    merged_df = pd.merge(mlb_df, cities, how='inner', left_on='Metro Area', right_on='Metropolitan area')\n",
    "    merged_df = merged_df.astype({\"Population (2016 est.)[8]\":\"float\"})    \n",
    "    #merged_df = merged_df.groupby(['Metro Area','Population (2016 est.)[8]'])[['W','L']].sum()\n",
    "    merged_df['Win-Loss %'] = merged_df['W']/(merged_df['W']+merged_df['L'])\n",
    "    merged_df = merged_df.groupby('Metro Area').mean()\n",
    "    merged_df = merged_df.reset_index()\n",
    "\n",
    "    return merged_df\n",
    "\n",
    "def nfl(): \n",
    "    # YOUR CODE HERE\n",
    "    # raise NotImplementedError()\n",
    "\n",
    "    nfl_df=pd.read_csv(\"assets/nfl.csv\")\n",
    "    cities=pd.read_html(\"assets/wikipedia_data.html\")[1]\n",
    "    cities=cities.iloc[:-1,[0,3,5,6,7,8]]\n",
    "\n",
    "    nfl_df = nfl_df[nfl_df['year'] == 2018]\n",
    "    nfl_df = nfl_df[~nfl_df['team'].str.contains('(\\.*(AFC|NFC)\\.*)')]\n",
    "    nfl_df['team'] = nfl_df['team'].str.replace('[^a-zA-Z\\s\\.]','')\n",
    "    city = {'Miami Dolphins': 'Miami'\n",
    "            ,'Denver Broncos':'Denver'\n",
    "            ,'Dallas Cowboys':'Dallas'}  \n",
    "    nfl_df['City'] = nfl_df['team'].str.extract('^(\\w.{1,5}(?:\\s\\w+)?\\w*)').replace(city)\n",
    "    metro_areas = {'New England':'Boston'\n",
    "                   ,'Miami':'Miami–Fort Lauderdale'\n",
    "                   ,'New York':'New York City'\n",
    "                   ,'Tennessee':'Nashville'\n",
    "                   ,'Oakland':'San Francisco Bay Area'\n",
    "                   ,'Dallas':'Dallas–Fort Worth'\n",
    "                   ,'Washington':'Washington, D.C.'\n",
    "                   ,'Minnesota':'Minneapolis–Saint Paul'\n",
    "                   ,'Carolina':'Charlotte'\n",
    "                   ,'Tampa Bay':'Tampa Bay Area'\n",
    "                   ,'Arizona':'Phoenix'}\n",
    "    nfl_df['Metro Area'] = nfl_df['City'].replace(metro_areas)\n",
    "    nfl_df.sort_values('Metro Area',inplace=True)\n",
    "    nfl_df = nfl_df.astype({'W':'float','L':'float'})\n",
    "\n",
    "    merged_df = pd.merge(nfl_df, cities, how='inner', left_on='Metro Area', right_on='Metropolitan area')\n",
    "    merged_df = merged_df.astype({\"Population (2016 est.)[8]\":\"float\"})    \n",
    "    #merged_df = merged_df.groupby(['Metro Area','Population (2016 est.)[8]'])[['W','L']].sum()\n",
    "    merged_df['Win-Loss %'] = merged_df['W']/(merged_df['W']+merged_df['L'])\n",
    "    merged_df = merged_df.groupby('Metro Area').mean()\n",
    "    merged_df = merged_df.reset_index()\n",
    "\n",
    "    return merged_df\n",
    "    \n",
    "def sports_team_performance():\n",
    "    # YOUR CODE HERE\n",
    "    # raise NotImplementedError()\n",
    "    \n",
    "    nhl_df = nhl()\n",
    "    nba_df = nba()\n",
    "    mlb_df = mlb()\n",
    "    nfl_df = nfl()\n",
    "    \n",
    "    nhl_nba_df = pd.merge(nhl_df,nba_df,how='inner',left_on='Metro Area',right_on='Metro Area')\n",
    "    nhl_mlb_df = pd.merge(nhl_df,mlb_df,how='inner',left_on='Metro Area',right_on='Metro Area')\n",
    "    nba_mlb_df = pd.merge(nba_df,mlb_df,how='inner',left_on='Metro Area',right_on='Metro Area')\n",
    "    nba_nfl_df = pd.merge(nba_df,nfl_df,how='inner',left_on='Metro Area',right_on='Metro Area')\n",
    "    mlb_nfl_df = pd.merge(mlb_df,nfl_df,how='inner',left_on='Metro Area',right_on='Metro Area')\n",
    "    nfl_nhl_df = pd.merge(nfl_df,nhl_df,how='inner',left_on='Metro Area',right_on='Metro Area')\n",
    "    \n",
    "    pval_nhl_nba = stats.ttest_rel(nhl_nba_df['Win-Loss %_x'],nhl_nba_df['Win-Loss %_y'])\n",
    "    pval_nhl_mlb = stats.ttest_rel(nhl_mlb_df['Win-Loss %_x'],nhl_mlb_df['Win-Loss %_y'])\n",
    "    pval_nba_mlb = stats.ttest_rel(nba_mlb_df['Win-Loss %_x'],nba_mlb_df['Win-Loss %_y'])\n",
    "    pval_nba_nfl = stats.ttest_rel(nba_nfl_df['Win-Loss %_x'],nba_nfl_df['Win-Loss %_y'])\n",
    "    pval_mlb_nfl = stats.ttest_rel(mlb_nfl_df['Win-Loss %_x'],mlb_nfl_df['Win-Loss %_y'])\n",
    "    pval_nfl_nhl = stats.ttest_rel(nfl_nhl_df['Win-Loss %_x'],nfl_nhl_df['Win-Loss %_y'])\n",
    "    \n",
    "    pval_dict = {'NHL':{'NHL':np.nan,'NBA':pval_nhl_nba[1],'MLB':pval_nhl_mlb[1],'NFL':pval_nfl_nhl[1]}\n",
    "                 ,'NBA':{'NHL':pval_nhl_nba[1],'NBA':np.nan,'MLB':pval_nba_mlb[1],'NFL':pval_nba_nfl[1]}\n",
    "                 ,'MLB':{'NHL':pval_nhl_mlb[1],'NBA':pval_nba_mlb[1],'MLB':np.nan,'NFL':pval_mlb_nfl[1]}\n",
    "                 ,'NFL':{'NHL':pval_nfl_nhl[1],'NBA':pval_nba_nfl[1],'MLB':pval_mlb_nfl[1],'NFL':np.nan}}\n",
    "    \n",
    "    # Note: p_values is a full dataframe, so df.loc[\"NFL\",\"NBA\"] should be the same as df.loc[\"NBA\",\"NFL\"] and\n",
    "    # df.loc[\"NFL\",\"NFL\"] should return np.nan\n",
    "    #sports = ['NFL', 'NBA', 'NHL', 'MLB']\n",
    "    #p_values = pd.DataFrame({k:np.nan for k in sports}, index=sports)\n",
    "    p_values = pd.DataFrame(pval_dict)\n",
    "    \n",
    "    return p_values\n",
    "\n",
    "sports_team_performance()"
   ]
  },
  {
   "cell_type": "code",
   "execution_count": null,
   "metadata": {
    "deletable": false,
    "editable": false,
    "nbgrader": {
     "checksum": "2a596ab421a45cc01168d10e8fbb8f89",
     "grade": true,
     "grade_id": "cell-fb4b9cb5ff4570a6",
     "locked": true,
     "points": 20,
     "schema_version": 1,
     "solution": false
    }
   },
   "outputs": [],
   "source": []
  }
 ],
 "metadata": {
  "coursera": {
   "schema_names": [
    "mooc_adswpy_1_v2_assignment4"
   ]
  },
  "kernelspec": {
   "display_name": "Python 3",
   "language": "python",
   "name": "python3"
  },
  "language_info": {
   "codemirror_mode": {
    "name": "ipython",
    "version": 3
   },
   "file_extension": ".py",
   "mimetype": "text/x-python",
   "name": "python",
   "nbconvert_exporter": "python",
   "pygments_lexer": "ipython3",
   "version": "3.7.3"
  }
 },
 "nbformat": 4,
 "nbformat_minor": 4
}
